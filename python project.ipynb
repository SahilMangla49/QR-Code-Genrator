{
 "cells": [
  {
   "cell_type": "code",
   "execution_count": 1,
   "id": "cdaedb90",
   "metadata": {},
   "outputs": [],
   "source": [
    "#import libraries\n",
    "import qrcode \n",
    "from PIL import Image"
   ]
  },
  {
   "cell_type": "code",
   "execution_count": 2,
   "id": "d4b907fb",
   "metadata": {},
   "outputs": [],
   "source": [
    "# generate qr code \n",
    "github_url = 'https://github.com/SahilMangla49'  \n",
    "qr_img = qrcode.make(github_url)\n",
    "qr_img = qr_img.convert('RGB')"
   ]
  },
  {
   "cell_type": "code",
   "execution_count": 3,
   "id": "fa958f86",
   "metadata": {},
   "outputs": [],
   "source": [
    "#load the logo\n",
    "logo = Image.open('sahil.jpg')\n",
    "logo = logo.convert(\"RGBA\")"
   ]
  },
  {
   "cell_type": "code",
   "execution_count": 4,
   "id": "1d95d159",
   "metadata": {},
   "outputs": [],
   "source": [
    "# set dimensions of logo\n",
    "qr_width, qr_height = qr_img.size\n",
    "logo_size = int(qr_width / 4)\n",
    "logo = logo.resize((logo_size, logo_size))"
   ]
  },
  {
   "cell_type": "code",
   "execution_count": 5,
   "id": "52888890",
   "metadata": {},
   "outputs": [],
   "source": [
    "#set position of logo in qr code\n",
    "pos = ((qr_width - logo_size) // 2, (qr_height - logo_size) // 2)\n",
    "qr_img.paste(logo, pos, mask=logo)"
   ]
  },
  {
   "cell_type": "code",
   "execution_count": 6,
   "id": "6970ac38",
   "metadata": {
    "scrolled": true
   },
   "outputs": [],
   "source": [
    "#save the qr\n",
    "qr_img.save('Github_qr.png')\n",
    "qr_img.show()\n"
   ]
  }
 ],
 "metadata": {
  "kernelspec": {
   "display_name": "Python 3 (ipykernel)",
   "language": "python",
   "name": "python3"
  },
  "language_info": {
   "codemirror_mode": {
    "name": "ipython",
    "version": 3
   },
   "file_extension": ".py",
   "mimetype": "text/x-python",
   "name": "python",
   "nbconvert_exporter": "python",
   "pygments_lexer": "ipython3",
   "version": "3.11.5"
  }
 },
 "nbformat": 4,
 "nbformat_minor": 5
}
